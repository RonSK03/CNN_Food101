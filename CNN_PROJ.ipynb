{
  "metadata": {
    "kernelspec": {
      "language": "python",
      "display_name": "Python 3",
      "name": "python3"
    },
    "language_info": {
      "name": "python",
      "version": "3.11.11",
      "mimetype": "text/x-python",
      "codemirror_mode": {
        "name": "ipython",
        "version": 3
      },
      "pygments_lexer": "ipython3",
      "nbconvert_exporter": "python",
      "file_extension": ".py"
    },
    "kaggle": {
      "accelerator": "gpu",
      "dataSources": [
        {
          "sourceId": 33884,
          "sourceType": "datasetVersion",
          "datasetId": 1864,
          "isSourceIdPinned": false
        }
      ],
      "dockerImageVersionId": 31040,
      "isInternetEnabled": true,
      "language": "python",
      "sourceType": "notebook",
      "isGpuEnabled": true
    },
    "colab": {
      "name": "CNN_PROJ",
      "provenance": [],
      "include_colab_link": true
    }
  },
  "nbformat_minor": 0,
  "nbformat": 4,
  "cells": [
    {
      "cell_type": "markdown",
      "metadata": {
        "id": "view-in-github",
        "colab_type": "text"
      },
      "source": [
        "<a href=\"https://colab.research.google.com/github/RonSK03/CNN_Food101/blob/main/CNN_PROJ.ipynb\" target=\"_parent\"><img src=\"https://colab.research.google.com/assets/colab-badge.svg\" alt=\"Open In Colab\"/></a>"
      ]
    },
    {
      "source": [
        "# IMPORTANT: RUN THIS CELL IN ORDER TO IMPORT YOUR KAGGLE DATA SOURCES,\n",
        "# THEN FEEL FREE TO DELETE THIS CELL.\n",
        "# NOTE: THIS NOTEBOOK ENVIRONMENT DIFFERS FROM KAGGLE'S PYTHON\n",
        "# ENVIRONMENT SO THERE MAY BE MISSING LIBRARIES USED BY YOUR\n",
        "# NOTEBOOK.\n",
        "import kagglehub\n",
        "kmader_food41_path = kagglehub.dataset_download('kmader/food41')\n",
        "\n",
        "print('Data source import complete.')\n"
      ],
      "metadata": {
        "id": "1Cyt1I6dd8Fg"
      },
      "cell_type": "code",
      "outputs": [],
      "execution_count": null
    },
    {
      "cell_type": "code",
      "source": [
        "import kagglehub\n",
        "\n",
        "# Download latest version\n",
        "path = kagglehub.dataset_download(\"kmader/food41\")\n",
        "\n",
        "print(\"Path to dataset files:\", path)"
      ],
      "metadata": {
        "_uuid": "8f2839f25d086af736a60e9eeb907d3b93b6e0e5",
        "_cell_guid": "b1076dfc-b9ad-4769-8c92-a6c4dae69d19",
        "trusted": true,
        "execution": {
          "iopub.status.busy": "2025-06-27T19:14:42.798394Z",
          "iopub.execute_input": "2025-06-27T19:14:42.799061Z",
          "iopub.status.idle": "2025-06-27T19:14:43.08195Z",
          "shell.execute_reply.started": "2025-06-27T19:14:42.799038Z",
          "shell.execute_reply": "2025-06-27T19:14:43.081421Z"
        },
        "id": "F_p8pCFQd8Fi"
      },
      "outputs": [],
      "execution_count": null
    },
    {
      "cell_type": "code",
      "source": [
        "import pandas as pd\n",
        "import numpy as np\n",
        "import matplotlib.pyplot as plt"
      ],
      "metadata": {
        "trusted": true,
        "execution": {
          "iopub.status.busy": "2025-06-27T19:14:47.582213Z",
          "iopub.execute_input": "2025-06-27T19:14:47.582811Z",
          "iopub.status.idle": "2025-06-27T19:14:47.586057Z",
          "shell.execute_reply.started": "2025-06-27T19:14:47.58279Z",
          "shell.execute_reply": "2025-06-27T19:14:47.585379Z"
        },
        "id": "50r-QaAmd8Fi"
      },
      "outputs": [],
      "execution_count": null
    },
    {
      "cell_type": "code",
      "source": [
        "from keras.layers import Flatten"
      ],
      "metadata": {
        "trusted": true,
        "execution": {
          "iopub.status.busy": "2025-06-27T19:14:47.861294Z",
          "iopub.execute_input": "2025-06-27T19:14:47.861902Z",
          "iopub.status.idle": "2025-06-27T19:14:47.865227Z",
          "shell.execute_reply.started": "2025-06-27T19:14:47.861878Z",
          "shell.execute_reply": "2025-06-27T19:14:47.864669Z"
        },
        "id": "RTAgZiDXd8Fj"
      },
      "outputs": [],
      "execution_count": null
    },
    {
      "cell_type": "code",
      "source": [
        "import torch.nn as nn"
      ],
      "metadata": {
        "trusted": true,
        "execution": {
          "iopub.status.busy": "2025-06-27T19:14:48.191329Z",
          "iopub.execute_input": "2025-06-27T19:14:48.192014Z",
          "iopub.status.idle": "2025-06-27T19:14:48.19534Z",
          "shell.execute_reply.started": "2025-06-27T19:14:48.19199Z",
          "shell.execute_reply": "2025-06-27T19:14:48.19453Z"
        },
        "id": "lkOo1F7zd8Fj"
      },
      "outputs": [],
      "execution_count": null
    },
    {
      "cell_type": "code",
      "source": [
        "import torch\n",
        "import torch.nn.functional as F"
      ],
      "metadata": {
        "trusted": true,
        "execution": {
          "iopub.status.busy": "2025-06-27T19:14:48.614179Z",
          "iopub.execute_input": "2025-06-27T19:14:48.614867Z",
          "iopub.status.idle": "2025-06-27T19:14:48.618105Z",
          "shell.execute_reply.started": "2025-06-27T19:14:48.614845Z",
          "shell.execute_reply": "2025-06-27T19:14:48.617314Z"
        },
        "id": "17uAdfard8Fj"
      },
      "outputs": [],
      "execution_count": null
    },
    {
      "cell_type": "code",
      "source": [
        "class CNN(nn.Module):\n",
        "    def __init__(self):\n",
        "        super(CNN, self).__init__()\n",
        "        self.convblock1=nn.Conv2d(3, 32, 3, 1, 1 )\n",
        "        self.batchnorm1=nn.BatchNorm2d(32)\n",
        "        self.relu1=nn.ReLU()\n",
        "        self.maxp1=nn.MaxPool2d(3,2,1)\n",
        "\n",
        "        self.convblock2=nn.Conv2d(32, 64, 3, 1, 1 )\n",
        "        self.batchnorm2=nn.BatchNorm2d(64)\n",
        "        self.relu2=nn.ReLU()\n",
        "        self.maxp2=nn.MaxPool2d(3,2,1)\n",
        "\n",
        "        self.convblock3=nn.Conv2d(64, 128, 3, 1, 1 )\n",
        "        self.batchnorm3=nn.BatchNorm2d(128)\n",
        "        self.relu3=nn.ReLU()\n",
        "        self.maxp3=nn.MaxPool2d(3,2,1)\n",
        "\n",
        "        self.convblock4=nn.Conv2d(128, 256, 3, 1, 1 )\n",
        "        self.batchnorm4=nn.BatchNorm2d(256)\n",
        "        self.relu4_=nn.ReLU()\n",
        "        self.maxp4=nn.MaxPool2d(3,2,1)\n",
        "\n",
        "        self.convblock5=nn.Conv2d(256, 512, 3, 1, 1 )\n",
        "        self.batchnorm5=nn.BatchNorm2d(512)\n",
        "        self.relu5_=nn.ReLU()\n",
        "        self.maxp5=nn.MaxPool2d(3,2,1)\n",
        "\n",
        "\n",
        "\n",
        "        self.flatten=nn.Flatten()\n",
        "        #size getting code\n",
        "        dummy_input = torch.zeros(1, 3, 128, 128)\n",
        "        x = self.maxp1(self.relu1(self.batchnorm1(self.convblock1(dummy_input))))\n",
        "        x = self.maxp2(self.relu2(self.batchnorm2(self.convblock2(x))))\n",
        "        x = self.maxp3(self.relu3(self.batchnorm3(self.convblock3(x))))\n",
        "        x=self.maxp4(self.relu4_(self.batchnorm4(self.convblock4(x))))\n",
        "        x=self.maxp5(self.relu5_(self.batchnorm5(self.convblock5(x))))\n",
        "\n",
        "\n",
        "        x = self.flatten(x)\n",
        "        flattened_size = x.shape[1]\n",
        "\n",
        "\n",
        "        self.layer1=nn.Linear(flattened_size, 1024)\n",
        "        self.drop1=nn.Dropout(0.4)\n",
        "        self.relu4=nn.ReLU()\n",
        "        self.layer2=nn.Linear(1024, 512)\n",
        "        self.drop2=nn.Dropout(0.4)\n",
        "        self.relu5=nn.ReLU()\n",
        "        self.layer3=nn.Linear(512, 256)\n",
        "        self.drop3=nn.Dropout(0.4)\n",
        "        self.relu6=nn.ReLU()\n",
        "        self.layer4=nn.Linear(256, 101)\n",
        "        self.drop4=nn.Dropout(0.4)\n",
        "        self.relu7=nn.ReLU()\n",
        "\n",
        "\n",
        "\n",
        "    def forward(self, x):\n",
        "        x=self.maxp1(self.relu1(self.batchnorm1(self.convblock1(x))))\n",
        "        x=self.maxp2(self.relu2(self.batchnorm2(self.convblock2(x))))\n",
        "        x=self.maxp3(self.relu3(self.batchnorm3(self.convblock3(x))))\n",
        "        x=self.maxp4(self.relu4_(self.batchnorm4(self.convblock4(x))))\n",
        "        x=self.maxp5(self.relu5_(self.batchnorm5(self.convblock5(x))))\n",
        "        x=self.flatten(x)\n",
        "        x=self.layer4(self.relu6(self.drop3(self.layer3(self.relu5(self.drop2(self.layer2(self.relu4(self.drop1(self.layer1(x))))))))))\n",
        "        return x\n",
        ""
      ],
      "metadata": {
        "trusted": true,
        "execution": {
          "iopub.status.busy": "2025-06-27T19:36:49.282762Z",
          "iopub.execute_input": "2025-06-27T19:36:49.28321Z",
          "iopub.status.idle": "2025-06-27T19:36:49.295269Z",
          "shell.execute_reply.started": "2025-06-27T19:36:49.283185Z",
          "shell.execute_reply": "2025-06-27T19:36:49.294396Z"
        },
        "id": "OwoZvRWYd8Fj"
      },
      "outputs": [],
      "execution_count": null
    },
    {
      "cell_type": "code",
      "source": [
        "import torchvision\n",
        "from torchvision import datasets, transforms\n",
        "from torchvision.datasets import ImageFolder\n",
        "from torch.utils.data import random_split, DataLoader\n"
      ],
      "metadata": {
        "trusted": true,
        "execution": {
          "iopub.status.busy": "2025-06-27T19:14:53.528816Z",
          "iopub.execute_input": "2025-06-27T19:14:53.529281Z",
          "iopub.status.idle": "2025-06-27T19:14:53.533109Z",
          "shell.execute_reply.started": "2025-06-27T19:14:53.529257Z",
          "shell.execute_reply": "2025-06-27T19:14:53.532393Z"
        },
        "id": "6mLIJuX5d8Fk"
      },
      "outputs": [],
      "execution_count": null
    },
    {
      "cell_type": "code",
      "source": [
        "transform=transforms.Compose([transforms.RandomHorizontalFlip(), #lets model know not just one orientation\n",
        "                              transforms.RandomResizedCrop(128), #standard size for resnet is 224x224\n",
        "                              transforms.ToTensor(),#converts the images to a tensor\n",
        "                                transforms.Normalize([0.5, 0.5, 0.5], [0.5, 0.5, 0.5])\n",
        "\n",
        "                              ])\n",
        "#transforms required to convert image into form needed by ResNet 18 (normalize values used are the standard ones for ResNet18)"
      ],
      "metadata": {
        "trusted": true,
        "execution": {
          "iopub.status.busy": "2025-06-27T19:14:53.900805Z",
          "iopub.execute_input": "2025-06-27T19:14:53.90141Z",
          "iopub.status.idle": "2025-06-27T19:14:53.905263Z",
          "shell.execute_reply.started": "2025-06-27T19:14:53.901388Z",
          "shell.execute_reply": "2025-06-27T19:14:53.904543Z"
        },
        "id": "VZ3NQKCYd8Fk"
      },
      "outputs": [],
      "execution_count": null
    },
    {
      "cell_type": "code",
      "source": [
        "print(path)"
      ],
      "metadata": {
        "trusted": true,
        "execution": {
          "iopub.status.busy": "2025-06-27T19:14:54.468738Z",
          "iopub.execute_input": "2025-06-27T19:14:54.469297Z",
          "iopub.status.idle": "2025-06-27T19:14:54.472941Z",
          "shell.execute_reply.started": "2025-06-27T19:14:54.469276Z",
          "shell.execute_reply": "2025-06-27T19:14:54.472224Z"
        },
        "id": "shSLT3Y2d8Fk"
      },
      "outputs": [],
      "execution_count": null
    },
    {
      "cell_type": "code",
      "source": [
        "net_data=ImageFolder('/kaggle/input/food41/images',transform=transform)"
      ],
      "metadata": {
        "trusted": true,
        "execution": {
          "iopub.status.busy": "2025-06-27T19:14:56.308307Z",
          "iopub.execute_input": "2025-06-27T19:14:56.308998Z",
          "iopub.status.idle": "2025-06-27T19:17:45.490067Z",
          "shell.execute_reply.started": "2025-06-27T19:14:56.308977Z",
          "shell.execute_reply": "2025-06-27T19:17:45.489504Z"
        },
        "id": "VAWb4f9cd8Fk"
      },
      "outputs": [],
      "execution_count": null
    },
    {
      "cell_type": "code",
      "source": [
        "len(net_data)"
      ],
      "metadata": {
        "trusted": true,
        "execution": {
          "iopub.status.busy": "2025-06-27T19:17:45.491029Z",
          "iopub.execute_input": "2025-06-27T19:17:45.491248Z",
          "iopub.status.idle": "2025-06-27T19:17:45.496561Z",
          "shell.execute_reply.started": "2025-06-27T19:17:45.491232Z",
          "shell.execute_reply": "2025-06-27T19:17:45.495893Z"
        },
        "id": "Fy2r4zfLd8Fl"
      },
      "outputs": [],
      "execution_count": null
    },
    {
      "cell_type": "code",
      "source": [
        "train_size = int(0.8 * len(net_data))\n",
        "test_size = len(net_data) - train_size\n",
        "\n",
        "train_data, test_data = random_split(net_data, [train_size, test_size])\n",
        "#splitting dataset as 80% training and 20% testing"
      ],
      "metadata": {
        "trusted": true,
        "execution": {
          "iopub.status.busy": "2025-06-27T19:17:45.497566Z",
          "iopub.execute_input": "2025-06-27T19:17:45.497825Z",
          "iopub.status.idle": "2025-06-27T19:17:45.520462Z",
          "shell.execute_reply.started": "2025-06-27T19:17:45.497804Z",
          "shell.execute_reply": "2025-06-27T19:17:45.519881Z"
        },
        "id": "pR9XjdgEd8Fl"
      },
      "outputs": [],
      "execution_count": null
    },
    {
      "cell_type": "code",
      "source": [
        "train_data_loaded=DataLoader(train_data, batch_size=16, shuffle=True)\n",
        "#using dataloader to split the data into batches\n",
        "test_data_loaded=DataLoader(test_data, batch_size=16, shuffle=True)"
      ],
      "metadata": {
        "trusted": true,
        "execution": {
          "iopub.status.busy": "2025-06-27T19:17:45.522162Z",
          "iopub.execute_input": "2025-06-27T19:17:45.522351Z",
          "iopub.status.idle": "2025-06-27T19:17:45.52631Z",
          "shell.execute_reply.started": "2025-06-27T19:17:45.522336Z",
          "shell.execute_reply": "2025-06-27T19:17:45.525581Z"
        },
        "id": "795sZCS5d8Fl"
      },
      "outputs": [],
      "execution_count": null
    },
    {
      "cell_type": "code",
      "source": [
        "train_data.dataset.classes"
      ],
      "metadata": {
        "trusted": true,
        "execution": {
          "iopub.status.busy": "2025-06-27T19:17:45.527086Z",
          "iopub.execute_input": "2025-06-27T19:17:45.527294Z",
          "iopub.status.idle": "2025-06-27T19:17:45.540892Z",
          "shell.execute_reply.started": "2025-06-27T19:17:45.527271Z",
          "shell.execute_reply": "2025-06-27T19:17:45.540284Z"
        },
        "id": "_nJ1Y8v6d8Fl"
      },
      "outputs": [],
      "execution_count": null
    },
    {
      "cell_type": "code",
      "source": [
        "device = torch.device(\"cuda\" if torch.cuda.is_available() else \"cpu\")\n",
        "model = CNN().to(device) #sending model to GPU for faster processing\n",
        "if(torch.cuda.is_available()):\n",
        "    print(\"Using GPU \")"
      ],
      "metadata": {
        "trusted": true,
        "execution": {
          "iopub.status.busy": "2025-06-27T19:36:59.448449Z",
          "iopub.execute_input": "2025-06-27T19:36:59.449109Z",
          "iopub.status.idle": "2025-06-27T19:36:59.564491Z",
          "shell.execute_reply.started": "2025-06-27T19:36:59.449085Z",
          "shell.execute_reply": "2025-06-27T19:36:59.56384Z"
        },
        "id": "iJ151EzTd8Fl"
      },
      "outputs": [],
      "execution_count": null
    },
    {
      "cell_type": "code",
      "source": [
        "inputs, labels = next(iter(train_data_loaded))\n",
        "inputs = inputs.to(device)\n",
        "outputs = model(inputs)\n",
        "print(\"Model output shape:\", outputs.shape)\n"
      ],
      "metadata": {
        "trusted": true,
        "execution": {
          "iopub.status.busy": "2025-06-27T19:37:00.16484Z",
          "iopub.execute_input": "2025-06-27T19:37:00.165504Z",
          "iopub.status.idle": "2025-06-27T19:37:00.275463Z",
          "shell.execute_reply.started": "2025-06-27T19:37:00.165481Z",
          "shell.execute_reply": "2025-06-27T19:37:00.274762Z"
        },
        "id": "bDubkJVqd8Fl"
      },
      "outputs": [],
      "execution_count": null
    },
    {
      "cell_type": "code",
      "source": [
        "train_data_loaded"
      ],
      "metadata": {
        "trusted": true,
        "execution": {
          "iopub.status.busy": "2025-06-27T19:20:11.670578Z",
          "iopub.execute_input": "2025-06-27T19:20:11.670845Z",
          "iopub.status.idle": "2025-06-27T19:20:11.675788Z",
          "shell.execute_reply.started": "2025-06-27T19:20:11.670826Z",
          "shell.execute_reply": "2025-06-27T19:20:11.675181Z"
        },
        "id": "ywRmVHBed8Fl"
      },
      "outputs": [],
      "execution_count": null
    },
    {
      "cell_type": "code",
      "source": [
        "criterion=nn.CrossEntropyLoss() #loss/cost function checking how bad it is doing\n",
        "optimizer = torch.optim.AdamW(model.parameters(), lr=1e-5, weight_decay=1e-4) #gradient descent alpha=lr\n"
      ],
      "metadata": {
        "trusted": true,
        "execution": {
          "iopub.status.busy": "2025-06-27T20:13:35.768532Z",
          "iopub.execute_input": "2025-06-27T20:13:35.768767Z",
          "iopub.status.idle": "2025-06-27T20:13:35.77353Z",
          "shell.execute_reply.started": "2025-06-27T20:13:35.768752Z",
          "shell.execute_reply": "2025-06-27T20:13:35.772945Z"
        },
        "id": "ONstnALnd8Fm"
      },
      "outputs": [],
      "execution_count": null
    },
    {
      "cell_type": "code",
      "source": [
        "\n",
        "train_loss=[]\n",
        "test_loss=[]\n",
        "epochacc=[]\n",
        "\n",
        "for epochs in range(30):\n",
        "    model.train()\n",
        "    net_test_loss=0\n",
        "    net_loss=0\n",
        "    with torch.set_grad_enabled(True):\n",
        "        for inputs, labels in train_data_loaded:\n",
        "          inputs=inputs.to(device)\n",
        "          labels=labels.to(device) #sending the inputs and labels to GPU\n",
        "          optimizer.zero_grad() #makes the gradients of all weights 0 before next iteration\n",
        "          outputs=model(inputs)\n",
        "          _, preds=torch.max(outputs,1) #outputs returns a tensor of scores of all possibilities so we take the one with highest score\n",
        "          loss=criterion(outputs, labels)\n",
        "          loss.backward()#calulates loss and backpropagates\n",
        "          optimizer.step()\n",
        "          net_loss=net_loss+loss.item()\n",
        "    avg_loss=net_loss/len(train_data_loaded)\n",
        "    train_loss.append(avg_loss)\n",
        "    model.eval() #sets model mode to evaluation/testin\n",
        "    with torch.set_grad_enabled(False):\n",
        "     running_corrects=0\n",
        "     for inputs, labels in test_data_loaded:\n",
        "        inputs=inputs.to(device)\n",
        "        labels=labels.to(device)\n",
        "        outputs=model(inputs)\n",
        "        _, preds=torch.max(outputs, 1)\n",
        "        loss=criterion(outputs, labels)\n",
        "        running_corrects += torch.sum(preds == labels.data)\n",
        "        net_test_loss=net_test_loss+loss.item()\n",
        "     avg_test=net_test_loss/len(test_data_loaded)\n",
        "    test_loss.append(avg_test)\n",
        "    epoch_acc = running_corrects.double() /len(test_data_loaded.dataset)\n",
        "    epochacc.append(epoch_acc.item())\n",
        "    print(f\"Accuracy={epoch_acc}\")\n",
        "    print(f\"Epoch {epochs+1}/{30} -> Test Loss: {avg_test:.4f}, Accuracy: {epoch_acc:.4f}\")\n",
        "\n",
        "\n",
        "\n",
        "print(\"Test complete\")\n",
        " #model training and testing for 30 iterations. saving model as above name\n"
      ],
      "metadata": {
        "trusted": true,
        "execution": {
          "iopub.status.busy": "2025-06-27T20:23:14.768346Z",
          "iopub.execute_input": "2025-06-27T20:23:14.769066Z"
        },
        "id": "oZCJR-srd8Fm"
      },
      "outputs": [],
      "execution_count": null
    },
    {
      "cell_type": "code",
      "source": [
        "inputs, labels = next(iter(train_data_loaded))\n",
        "print(\"Input shape:\", inputs.shape)  # Should be [B, 3, 128, 128]\n"
      ],
      "metadata": {
        "trusted": true,
        "execution": {
          "iopub.status.busy": "2025-06-27T19:14:37.894658Z",
          "iopub.status.idle": "2025-06-27T19:14:37.894934Z",
          "shell.execute_reply.started": "2025-06-27T19:14:37.894786Z",
          "shell.execute_reply": "2025-06-27T19:14:37.894801Z"
        },
        "id": "86AFf0Tpd8Fm"
      },
      "outputs": [],
      "execution_count": null
    },
    {
      "cell_type": "code",
      "source": [
        "torch.cuda.empty_cache()\n"
      ],
      "metadata": {
        "trusted": true,
        "execution": {
          "iopub.status.busy": "2025-06-27T19:14:37.896038Z",
          "iopub.status.idle": "2025-06-27T19:14:37.896346Z",
          "shell.execute_reply.started": "2025-06-27T19:14:37.896191Z",
          "shell.execute_reply": "2025-06-27T19:14:37.896207Z"
        },
        "id": "7FEPwXggd8Fm"
      },
      "outputs": [],
      "execution_count": null
    },
    {
      "cell_type": "code",
      "source": [
        "print(labels[:5])\n",
        "print(outputs.shape)  # should be (batch_size, 101)\n"
      ],
      "metadata": {
        "trusted": true,
        "execution": {
          "iopub.status.busy": "2025-06-27T19:14:37.898198Z",
          "iopub.status.idle": "2025-06-27T19:14:37.898619Z",
          "shell.execute_reply.started": "2025-06-27T19:14:37.898478Z",
          "shell.execute_reply": "2025-06-27T19:14:37.898489Z"
        },
        "id": "WVwZmAknd8Fm"
      },
      "outputs": [],
      "execution_count": null
    },
    {
      "cell_type": "code",
      "source": [],
      "metadata": {
        "trusted": true,
        "id": "j-xBYtpkd8Fm"
      },
      "outputs": [],
      "execution_count": null
    }
  ]
}